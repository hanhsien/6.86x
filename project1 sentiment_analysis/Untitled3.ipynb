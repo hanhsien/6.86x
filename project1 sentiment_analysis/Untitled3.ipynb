{
 "cells": [
  {
   "cell_type": "code",
   "execution_count": 1,
   "metadata": {},
   "outputs": [
    {
     "name": "stdout",
     "output_type": "stream",
     "text": [
      "theta for Perceptron is 3.9173999999999918, 4.164000000000001\n",
      "theta_0 for Perceptron is -8.0\n"
     ]
    },
    {
     "data": {
      "text/plain": [
       "<Figure size 640x480 with 1 Axes>"
      ]
     },
     "metadata": {},
     "output_type": "display_data"
    },
    {
     "name": "stdout",
     "output_type": "stream",
     "text": [
      "theta for Average Perceptron is 3.4782604999999895, 3.6110609999999745\n",
      "theta_0 for Average Perceptron is -6.372999999999999\n"
     ]
    },
    {
     "data": {
      "text/plain": [
       "<Figure size 640x480 with 1 Axes>"
      ]
     },
     "metadata": {},
     "output_type": "display_data"
    },
    {
     "name": "stdout",
     "output_type": "stream",
     "text": [
      "theta for Pegasos is 0.7346463119064065, 0.6300224592973831\n",
      "theta_0 for Pegasos is -1.2195071848898564\n"
     ]
    },
    {
     "data": {
      "text/plain": [
       "<Figure size 640x480 with 1 Axes>"
      ]
     },
     "metadata": {},
     "output_type": "display_data"
    },
    {
     "name": "stdout",
     "output_type": "stream",
     "text": [
      "Training accuracy for perceptron:   0.7953\n",
      "Validation accuracy for perceptron: 0.6900\n",
      "Training accuracy for average perceptron:   0.9030\n",
      "Validation accuracy for average perceptron: 0.7520\n",
      "Training accuracy for Pegasos:                     0.8592\n",
      "Validation accuracy for Pegasos:                   0.7480\n",
      "perceptron valid: [(1, 0.64), (5, 0.684), (10, 0.69), (15, 0.726), (25, 0.728), (50, 0.754)]\n",
      "best = 0.7540, T=50.0000\n",
      "avg perceptron valid: [(1, 0.732), (5, 0.746), (10, 0.752), (15, 0.748), (25, 0.744), (50, 0.752)]\n",
      "best = 0.7520, T=10.0000\n",
      "Pegasos valid: tune T [(1, 0.686), (5, 0.726), (10, 0.748), (15, 0.746), (25, 0.768), (50, 0.752)]\n",
      "best = 0.7680, T=25.0000\n",
      "Pegasos valid: tune L [(0.001, 0.768), (0.01, 0.768), (0.1, 0.718), (1, 0.52), (10, 0.51)]\n",
      "best = 0.7680, L=0.0010\n"
     ]
    },
    {
     "data": {
      "text/plain": [
       "<Figure size 640x480 with 1 Axes>"
      ]
     },
     "metadata": {},
     "output_type": "display_data"
    },
    {
     "data": {
      "text/plain": [
       "<Figure size 640x480 with 1 Axes>"
      ]
     },
     "metadata": {},
     "output_type": "display_data"
    },
    {
     "data": {
      "text/plain": [
       "<Figure size 640x480 with 1 Axes>"
      ]
     },
     "metadata": {},
     "output_type": "display_data"
    },
    {
     "data": {
      "text/plain": [
       "<Figure size 640x480 with 1 Axes>"
      ]
     },
     "metadata": {},
     "output_type": "display_data"
    },
    {
     "name": "stdout",
     "output_type": "stream",
     "text": [
      "Training accuracy for Pegasos:                     0.8928\n",
      "Test accuracy for Pegasos:                         0.7700\n",
      "Most Explanatory Word Features\n",
      "['delicious', 'loves', 'great', 'perfect', 'best', 'favorite', 'wonderful', 'excellent', 'tasty', 'thank']\n"
     ]
    }
   ],
   "source": [
    "run main"
   ]
  }
 ],
 "metadata": {
  "kernelspec": {
   "display_name": "Python 3",
   "language": "python",
   "name": "python3"
  },
  "language_info": {
   "codemirror_mode": {
    "name": "ipython",
    "version": 3
   },
   "file_extension": ".py",
   "mimetype": "text/x-python",
   "name": "python",
   "nbconvert_exporter": "python",
   "pygments_lexer": "ipython3",
   "version": "3.7.1"
  }
 },
 "nbformat": 4,
 "nbformat_minor": 2
}
