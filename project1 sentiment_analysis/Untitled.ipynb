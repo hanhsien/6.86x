{
 "cells": [
  {
   "cell_type": "code",
   "execution_count": 1,
   "metadata": {},
   "outputs": [
    {
     "name": "stdout",
     "output_type": "stream",
     "text": [
      "\u001b[1;32mPASS\u001b[m Import project1\n",
      "\u001b[1;32mPASS\u001b[m Get order \n",
      "\u001b[1;32mPASS\u001b[m Hinge loss single \n",
      "\u001b[1;32mPASS\u001b[m Hinge loss full \n",
      "\u001b[1;32mPASS\u001b[m Perceptron single update \n",
      "\u001b[1;32mPASS\u001b[m Perceptron \n",
      "\u001b[1;32mPASS\u001b[m Average perceptron \n",
      "\u001b[1;32mPASS\u001b[m Pegasos single update \n",
      "\u001b[1;32mPASS\u001b[m Pegasos \n",
      "\u001b[1;32mPASS\u001b[m Classify \n",
      "\u001b[1;32mPASS\u001b[m Classifier accuracy \n",
      "\u001b[1;32mPASS\u001b[m Bag of words \n",
      "\u001b[1;32mPASS\u001b[m Bag of words  stopwords removed\n",
      "\u001b[1;32mPASS\u001b[m Extract bow feature vectors\n",
      "\u001b[1;32mPASS\u001b[m Extract bow feature vectors : correct non binary features\n"
     ]
    }
   ],
   "source": [
    "run test"
   ]
  }
 ],
 "metadata": {
  "kernelspec": {
   "display_name": "Python 3",
   "language": "python",
   "name": "python3"
  },
  "language_info": {
   "codemirror_mode": {
    "name": "ipython",
    "version": 3
   },
   "file_extension": ".py",
   "mimetype": "text/x-python",
   "name": "python",
   "nbconvert_exporter": "python",
   "pygments_lexer": "ipython3",
   "version": "3.7.1"
  }
 },
 "nbformat": 4,
 "nbformat_minor": 2
}
