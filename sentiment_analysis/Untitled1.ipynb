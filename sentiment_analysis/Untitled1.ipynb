{
 "cells": [
  {
   "cell_type": "code",
   "execution_count": 1,
   "metadata": {},
   "outputs": [
    {
     "name": "stdout",
     "output_type": "stream",
     "text": [
      "\u001b[1;32mPASS\u001b[m Import project1\n",
      "\u001b[1;32mPASS\u001b[m Get order \n",
      "\u001b[1;32mPASS\u001b[m Hinge loss single \n",
      "\u001b[1;32mPASS\u001b[m Hinge loss full \n",
      "\u001b[1;32mPASS\u001b[m Perceptron single update \n",
      "\u001b[1;32mPASS\u001b[m Perceptron \n",
      "\u001b[1;32mPASS\u001b[m Average perceptron \n",
      "\u001b[1;32mPASS\u001b[m Pegasos single update \n",
      "\u001b[1;32mPASS\u001b[m Pegasos \n",
      "\u001b[1;32mPASS\u001b[m Classify \n",
      "\u001b[1;32mPASS\u001b[m Classifier accuracy \n",
      "\u001b[1;32mPASS\u001b[m Bag of words \n",
      "\u001b[1;32mPASS\u001b[m Bag of words  stopwords removed\n",
      "\u001b[1;32mPASS\u001b[m Extract bow feature vectors\n",
      "\u001b[1;32mPASS\u001b[m Extract bow feature vectors : correct non binary features\n"
     ]
    }
   ],
   "source": [
    "run test"
   ]
  },
  {
   "cell_type": "code",
   "execution_count": 1,
   "metadata": {},
   "outputs": [
    {
     "ename": "ModuleNotFoundError",
     "evalue": "No module named 'pytorch'",
     "output_type": "error",
     "traceback": [
      "\u001b[1;31m---------------------------------------------------------------------------\u001b[0m",
      "\u001b[1;31mModuleNotFoundError\u001b[0m                       Traceback (most recent call last)",
      "\u001b[1;32m<ipython-input-1-d35c46f8d1a2>\u001b[0m in \u001b[0;36m<module>\u001b[1;34m\u001b[0m\n\u001b[1;32m----> 1\u001b[1;33m \u001b[1;32mimport\u001b[0m \u001b[0mpytorch\u001b[0m\u001b[1;33m\u001b[0m\u001b[1;33m\u001b[0m\u001b[0m\n\u001b[0m",
      "\u001b[1;31mModuleNotFoundError\u001b[0m: No module named 'pytorch'"
     ]
    }
   ],
   "source": [
    "import pytorch"
   ]
  }
 ],
 "metadata": {
  "kernelspec": {
   "display_name": "Python 3",
   "language": "python",
   "name": "python3"
  },
  "language_info": {
   "codemirror_mode": {
    "name": "ipython",
    "version": 3
   },
   "file_extension": ".py",
   "mimetype": "text/x-python",
   "name": "python",
   "nbconvert_exporter": "python",
   "pygments_lexer": "ipython3",
   "version": "3.7.1"
  }
 },
 "nbformat": 4,
 "nbformat_minor": 2
}
