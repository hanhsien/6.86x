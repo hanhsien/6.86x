{
  "nbformat": 4,
  "nbformat_minor": 0,
  "metadata": {
    "colab": {
      "name": "Untitled0.ipynb",
      "version": "0.3.2",
      "provenance": [],
      "include_colab_link": true
    },
    "kernelspec": {
      "name": "python3",
      "display_name": "Python 3"
    }
  },
  "cells": [
    {
      "cell_type": "markdown",
      "metadata": {
        "id": "view-in-github",
        "colab_type": "text"
      },
      "source": [
        "<a href=\"https://colab.research.google.com/github/hanhsien/6.86x/blob/master/conv.ipynb\" target=\"_parent\"><img src=\"https://colab.research.google.com/assets/colab-badge.svg\" alt=\"Open In Colab\"/></a>"
      ]
    },
    {
      "cell_type": "code",
      "metadata": {
        "id": "ofktX_CxAg2f",
        "colab_type": "code",
        "colab": {}
      },
      "source": [
        "# Clone the entire repo.\n",
        "!git clone -l -s git://github.com/jakevdp/PythonDataScienceHandbook.git cloned-repo\n",
        "%cd cloned-repo\n",
        "!ls"
      ],
      "execution_count": 0,
      "outputs": []
    },
    {
      "cell_type": "code",
      "metadata": {
        "id": "qqmXL_petTmC",
        "colab_type": "code",
        "outputId": "47150948-a6f0-4d1e-c716-d1543ca752aa",
        "colab": {
          "base_uri": "https://localhost:8080/",
          "height": 367
        }
      },
      "source": [
        "import numpy as np\n",
        "import torch\n",
        "import torch.nn as nn\n",
        "import torch.nn.functional as F\n",
        "from train_utils import batchify_data, run_epoch, train_model, Flatten\n",
        "import utils_multiMNIST as U\n",
        "path_to_data_dir = '../Datasets/'\n",
        "use_mini_dataset = True\n",
        "\n",
        "batch_size = 64\n",
        "nb_classes = 10\n",
        "nb_epoch = 30\n",
        "num_classes = 10\n",
        "img_rows, img_cols = 42, 28 # input image dimensions\n",
        "\n",
        "\n",
        "\n",
        "#pragma: coderesponse template name=\"cnn\"\n",
        "class CNN(nn.Module):\n",
        "\n",
        "    def __init__(self, input_dimension):\n",
        "        super(CNN, self).__init__()\n",
        "        # TODO initialize model layers here\n",
        "        ch1 = 32\n",
        "        ch2 = ch1 * 2\n",
        "        i = 5\n",
        "        j = int((int((42 - i + 1)/2) - i + 1)/2)\n",
        "        k = int((int((28 - i + 1)/2) - i + 1)/2)\n",
        "        \n",
        "        self.flatten = Flatten()\n",
        "        self.conv1 = nn.Conv2d(1, ch1, (i, i))\n",
        "        self.relu = nn.ReLU()\n",
        "        self.maxpool = nn.MaxPool2d((2,2))\n",
        "        self.conv2 = nn.Conv2d(ch1, ch2, (i, i))\n",
        "        self.dropout = nn.Dropout(0.5)\n",
        "        self.a = nn.Linear(j*k*ch2, 10)\n",
        "        self.b = nn.Linear(j*k*ch2, 10)\n",
        "\n",
        "    def forward(self, x):\n",
        "\n",
        "        # TODO use model layers to predict the two digits\n",
        "        #input image 42x28\n",
        "        x = self.conv1(x)\n",
        "        #38x24x32\n",
        "        x = self.maxpool(x)\n",
        "        x = self.relu(x)\n",
        "        x = self.dropout(x)\n",
        "        #19x12x32\n",
        "        x = self.conv2(x)\n",
        "        #15x8x64\n",
        "        x = self.maxpool(x)\n",
        "        x = self.relu(x)\n",
        "        x = self.dropout(x)\n",
        "        #7x4x64\n",
        "        x = self.flatten(x)\n",
        "        x = self.dropout(x)\n",
        "        x1 = self.a(x)\n",
        "        x2 = self.b(x)\n",
        "        \n",
        "        out_first_digit = x1\n",
        "        out_second_digit = x2\n",
        "        \n",
        "\n",
        "        return out_first_digit, out_second_digit\n",
        "#pragma: coderesponse end\n",
        "\n",
        "def main():\n",
        "    X_train, y_train, X_test, y_test = U.get_data(path_to_data_dir, use_mini_dataset)\n",
        "\n",
        "    # Split into train and dev\n",
        "    dev_split_index = int(9 * len(X_train) / 10)\n",
        "    X_dev = X_train[dev_split_index:]\n",
        "    y_dev = [y_train[0][dev_split_index:], y_train[1][dev_split_index:]]\n",
        "    X_train = X_train[:dev_split_index]\n",
        "    y_train = [y_train[0][:dev_split_index], y_train[1][:dev_split_index]]\n",
        "\n",
        "    permutation = np.array([i for i in range(len(X_train))])\n",
        "    np.random.shuffle(permutation)\n",
        "    X_train = [X_train[i] for i in permutation]\n",
        "    y_train = [[y_train[0][i] for i in permutation], [y_train[1][i] for i in permutation]]\n",
        "\n",
        "    # Split dataset into batches\n",
        "    train_batches = batchify_data(X_train, y_train, batch_size)\n",
        "    dev_batches = batchify_data(X_dev, y_dev, batch_size)\n",
        "    test_batches = batchify_data(X_test, y_test, batch_size)\n",
        "\n",
        "    # Load model\n",
        "    input_dimension = img_rows * img_cols\n",
        "    model = CNN(input_dimension) # TODO add proper layers to CNN class above\n",
        "\n",
        "    # Train\n",
        "    train_model(train_batches, dev_batches, model)\n",
        "\n",
        "    ## Evaluate the model on test data\n",
        "    loss, acc = run_epoch(test_batches, model.eval(), None)\n",
        "    print('Test loss1: {:.6f}  accuracy1: {:.6f}  loss2: {:.6f}   accuracy2: {:.6f}'.format(loss[0], acc[0], loss[1], acc[1]))\n",
        "\n",
        "if __name__ == '__main__':\n",
        "    # Specify seed for deterministic behavior, then shuffle. Do not change seed for official submissions to edx\n",
        "    np.random.seed(12321)  # for reproducibility\n",
        "    torch.manual_seed(12321)  # for reproducibility\n",
        "    main()\n"
      ],
      "execution_count": 1,
      "outputs": [
        {
          "output_type": "error",
          "ename": "ModuleNotFoundError",
          "evalue": "ignored",
          "traceback": [
            "\u001b[0;31m---------------------------------------------------------------------------\u001b[0m",
            "\u001b[0;31mModuleNotFoundError\u001b[0m                       Traceback (most recent call last)",
            "\u001b[0;32m<ipython-input-1-40ba2f21eccc>\u001b[0m in \u001b[0;36m<module>\u001b[0;34m()\u001b[0m\n\u001b[1;32m      3\u001b[0m \u001b[0;32mimport\u001b[0m \u001b[0mtorch\u001b[0m\u001b[0;34m.\u001b[0m\u001b[0mnn\u001b[0m \u001b[0;32mas\u001b[0m \u001b[0mnn\u001b[0m\u001b[0;34m\u001b[0m\u001b[0;34m\u001b[0m\u001b[0m\n\u001b[1;32m      4\u001b[0m \u001b[0;32mimport\u001b[0m \u001b[0mtorch\u001b[0m\u001b[0;34m.\u001b[0m\u001b[0mnn\u001b[0m\u001b[0;34m.\u001b[0m\u001b[0mfunctional\u001b[0m \u001b[0;32mas\u001b[0m \u001b[0mF\u001b[0m\u001b[0;34m\u001b[0m\u001b[0;34m\u001b[0m\u001b[0m\n\u001b[0;32m----> 5\u001b[0;31m \u001b[0;32mfrom\u001b[0m \u001b[0mtrain_utils\u001b[0m \u001b[0;32mimport\u001b[0m \u001b[0mbatchify_data\u001b[0m\u001b[0;34m,\u001b[0m \u001b[0mrun_epoch\u001b[0m\u001b[0;34m,\u001b[0m \u001b[0mtrain_model\u001b[0m\u001b[0;34m,\u001b[0m \u001b[0mFlatten\u001b[0m\u001b[0;34m\u001b[0m\u001b[0;34m\u001b[0m\u001b[0m\n\u001b[0m\u001b[1;32m      6\u001b[0m \u001b[0;32mimport\u001b[0m \u001b[0mutils_multiMNIST\u001b[0m \u001b[0;32mas\u001b[0m \u001b[0mU\u001b[0m\u001b[0;34m\u001b[0m\u001b[0;34m\u001b[0m\u001b[0m\n\u001b[1;32m      7\u001b[0m \u001b[0mpath_to_data_dir\u001b[0m \u001b[0;34m=\u001b[0m \u001b[0;34m'../Datasets/'\u001b[0m\u001b[0;34m\u001b[0m\u001b[0;34m\u001b[0m\u001b[0m\n",
            "\u001b[0;31mModuleNotFoundError\u001b[0m: No module named 'train_utils'",
            "",
            "\u001b[0;31m---------------------------------------------------------------------------\u001b[0;32m\nNOTE: If your import is failing due to a missing package, you can\nmanually install dependencies using either !pip or !apt.\n\nTo view examples of installing some common dependencies, click the\n\"Open Examples\" button below.\n\u001b[0;31m---------------------------------------------------------------------------\u001b[0m\n"
          ]
        }
      ]
    }
  ]
}